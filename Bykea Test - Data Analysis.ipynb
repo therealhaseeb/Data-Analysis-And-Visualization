{
  "nbformat": 4,
  "nbformat_minor": 0,
  "metadata": {
    "colab": {
      "name": "Untitled31.ipynb",
      "version": "0.3.2",
      "provenance": [],
      "collapsed_sections": [],
      "include_colab_link": true
    },
    "kernelspec": {
      "name": "python3",
      "display_name": "Python 3"
    },
    "accelerator": "GPU"
  },
  "cells": [
    {
      "cell_type": "markdown",
      "metadata": {
        "id": "view-in-github",
        "colab_type": "text"
      },
      "source": [
        "<a href=\"https://colab.research.google.com/github/haseeb1zahid/Data-Analysis-And-Visualization/blob/master/Bykea%20Test%20-%20Data%20Analysis.ipynb\" target=\"_parent\"><img src=\"https://colab.research.google.com/assets/colab-badge.svg\" alt=\"Open In Colab\"/></a>"
      ]
    },
    {
      "metadata": {
        "id": "6k85K_AwZ86s",
        "colab_type": "text"
      },
      "cell_type": "markdown",
      "source": [
        "### Importing Packages\n"
      ]
    },
    {
      "metadata": {
        "id": "QOd0t2ePbUXq",
        "colab_type": "code",
        "colab": {}
      },
      "cell_type": "code",
      "source": [
        "import pandas as pd\n",
        "import matplotlib.pyplot as plt\n",
        "import numpy as np\n",
        "import seaborn as sns\n",
        "from scipy import stats"
      ],
      "execution_count": 0,
      "outputs": []
    },
    {
      "metadata": {
        "id": "Md1K646-aMXp",
        "colab_type": "text"
      },
      "cell_type": "markdown",
      "source": [
        "### Reading Data Into Dataframe"
      ]
    },
    {
      "metadata": {
        "id": "lC6YevKBcAgk",
        "colab_type": "code",
        "colab": {}
      },
      "cell_type": "code",
      "source": [
        "data = pd.read_excel('data.xlsx', 'Data')"
      ],
      "execution_count": 0,
      "outputs": []
    },
    {
      "metadata": {
        "id": "-U2WN7dVfwpz",
        "colab_type": "code",
        "outputId": "493f8b34-5e21-4707-9a71-82207ff6c26a",
        "colab": {
          "base_uri": "https://localhost:8080/",
          "height": 204
        }
      },
      "cell_type": "code",
      "source": [
        "data.head()"
      ],
      "execution_count": 16,
      "outputs": [
        {
          "output_type": "execute_result",
          "data": {
            "text/html": [
              "<div>\n",
              "<style scoped>\n",
              "    .dataframe tbody tr th:only-of-type {\n",
              "        vertical-align: middle;\n",
              "    }\n",
              "\n",
              "    .dataframe tbody tr th {\n",
              "        vertical-align: top;\n",
              "    }\n",
              "\n",
              "    .dataframe thead th {\n",
              "        text-align: right;\n",
              "    }\n",
              "</style>\n",
              "<table border=\"1\" class=\"dataframe\">\n",
              "  <thead>\n",
              "    <tr style=\"text-align: right;\">\n",
              "      <th></th>\n",
              "      <th>Date/Time</th>\n",
              "      <th>Travel Distance</th>\n",
              "      <th>Travel duration</th>\n",
              "    </tr>\n",
              "  </thead>\n",
              "  <tbody>\n",
              "    <tr>\n",
              "      <th>0</th>\n",
              "      <td>2018-12-01 00:00:25.404</td>\n",
              "      <td>9</td>\n",
              "      <td>22</td>\n",
              "    </tr>\n",
              "    <tr>\n",
              "      <th>1</th>\n",
              "      <td>2018-12-01 00:00:44.897</td>\n",
              "      <td>6</td>\n",
              "      <td>13</td>\n",
              "    </tr>\n",
              "    <tr>\n",
              "      <th>2</th>\n",
              "      <td>2018-12-01 00:01:28.748</td>\n",
              "      <td>7</td>\n",
              "      <td>21</td>\n",
              "    </tr>\n",
              "    <tr>\n",
              "      <th>3</th>\n",
              "      <td>2018-12-01 00:01:32.747</td>\n",
              "      <td>7</td>\n",
              "      <td>14</td>\n",
              "    </tr>\n",
              "    <tr>\n",
              "      <th>4</th>\n",
              "      <td>2018-12-01 00:02:17.876</td>\n",
              "      <td>2</td>\n",
              "      <td>4</td>\n",
              "    </tr>\n",
              "  </tbody>\n",
              "</table>\n",
              "</div>"
            ],
            "text/plain": [
              "                Date/Time  Travel Distance  Travel duration\n",
              "0 2018-12-01 00:00:25.404                9               22\n",
              "1 2018-12-01 00:00:44.897                6               13\n",
              "2 2018-12-01 00:01:28.748                7               21\n",
              "3 2018-12-01 00:01:32.747                7               14\n",
              "4 2018-12-01 00:02:17.876                2                4"
            ]
          },
          "metadata": {
            "tags": []
          },
          "execution_count": 16
        }
      ]
    },
    {
      "metadata": {
        "id": "lGQHarexc88j",
        "colab_type": "text"
      },
      "cell_type": "markdown",
      "source": [
        "### Peeking Into Data"
      ]
    },
    {
      "metadata": {
        "id": "g_55NN9EdCIw",
        "colab_type": "code",
        "colab": {
          "base_uri": "https://localhost:8080/",
          "height": 170
        },
        "outputId": "d0d5d0ff-8cb5-4e23-bdbd-8408e7c26b4f"
      },
      "cell_type": "code",
      "source": [
        "dataInfo = data.describe()\n",
        "print(dataInfo)"
      ],
      "execution_count": 17,
      "outputs": [
        {
          "output_type": "stream",
          "text": [
            "       Travel Distance  Travel duration\n",
            "count    400568.000000    400568.000000\n",
            "mean         10.068535        28.850700\n",
            "std           6.613745       363.467181\n",
            "min           0.000000         1.000000\n",
            "25%           5.000000        14.000000\n",
            "50%           9.000000        23.000000\n",
            "75%          14.000000        35.000000\n",
            "max          88.000000    156241.000000\n"
          ],
          "name": "stdout"
        }
      ]
    },
    {
      "metadata": {
        "id": "3zvjwPiDajNp",
        "colab_type": "text"
      },
      "cell_type": "markdown",
      "source": [
        "### Setting Index To Time-Series"
      ]
    },
    {
      "metadata": {
        "id": "RrGbhhXeChwg",
        "colab_type": "code",
        "colab": {
          "base_uri": "https://localhost:8080/",
          "height": 235
        },
        "outputId": "c20485be-7220-4c17-e08f-8dcc80fa74de"
      },
      "cell_type": "code",
      "source": [
        "data.set_index('Date/Time', inplace = True)\n",
        "data.head()"
      ],
      "execution_count": 18,
      "outputs": [
        {
          "output_type": "execute_result",
          "data": {
            "text/html": [
              "<div>\n",
              "<style scoped>\n",
              "    .dataframe tbody tr th:only-of-type {\n",
              "        vertical-align: middle;\n",
              "    }\n",
              "\n",
              "    .dataframe tbody tr th {\n",
              "        vertical-align: top;\n",
              "    }\n",
              "\n",
              "    .dataframe thead th {\n",
              "        text-align: right;\n",
              "    }\n",
              "</style>\n",
              "<table border=\"1\" class=\"dataframe\">\n",
              "  <thead>\n",
              "    <tr style=\"text-align: right;\">\n",
              "      <th></th>\n",
              "      <th>Travel Distance</th>\n",
              "      <th>Travel duration</th>\n",
              "    </tr>\n",
              "    <tr>\n",
              "      <th>Date/Time</th>\n",
              "      <th></th>\n",
              "      <th></th>\n",
              "    </tr>\n",
              "  </thead>\n",
              "  <tbody>\n",
              "    <tr>\n",
              "      <th>2018-12-01 00:00:25.404</th>\n",
              "      <td>9</td>\n",
              "      <td>22</td>\n",
              "    </tr>\n",
              "    <tr>\n",
              "      <th>2018-12-01 00:00:44.897</th>\n",
              "      <td>6</td>\n",
              "      <td>13</td>\n",
              "    </tr>\n",
              "    <tr>\n",
              "      <th>2018-12-01 00:01:28.748</th>\n",
              "      <td>7</td>\n",
              "      <td>21</td>\n",
              "    </tr>\n",
              "    <tr>\n",
              "      <th>2018-12-01 00:01:32.747</th>\n",
              "      <td>7</td>\n",
              "      <td>14</td>\n",
              "    </tr>\n",
              "    <tr>\n",
              "      <th>2018-12-01 00:02:17.876</th>\n",
              "      <td>2</td>\n",
              "      <td>4</td>\n",
              "    </tr>\n",
              "  </tbody>\n",
              "</table>\n",
              "</div>"
            ],
            "text/plain": [
              "                         Travel Distance  Travel duration\n",
              "Date/Time                                                \n",
              "2018-12-01 00:00:25.404                9               22\n",
              "2018-12-01 00:00:44.897                6               13\n",
              "2018-12-01 00:01:28.748                7               21\n",
              "2018-12-01 00:01:32.747                7               14\n",
              "2018-12-01 00:02:17.876                2                4"
            ]
          },
          "metadata": {
            "tags": []
          },
          "execution_count": 18
        }
      ]
    },
    {
      "metadata": {
        "id": "ZPhFXJ-va3Yp",
        "colab_type": "text"
      },
      "cell_type": "markdown",
      "source": [
        "### Sorting Data & Regrouping Data By Minutes So It Can Be More Presentable"
      ]
    },
    {
      "metadata": {
        "id": "7KOsRb7RQ0x2",
        "colab_type": "code",
        "colab": {
          "base_uri": "https://localhost:8080/",
          "height": 221
        },
        "outputId": "e4479a86-1799-44ee-cfd7-7dba7b2963e1"
      },
      "cell_type": "code",
      "source": [
        "data = data.sort_index()\n",
        "data = data.resample('T').mean().dropna()\n",
        "print(data.head(10))"
      ],
      "execution_count": 19,
      "outputs": [
        {
          "output_type": "stream",
          "text": [
            "                     Travel Distance  Travel duration\n",
            "Date/Time                                            \n",
            "2018-12-01 00:00:00         7.500000        17.500000\n",
            "2018-12-01 00:01:00         7.000000        17.500000\n",
            "2018-12-01 00:02:00         7.500000        14.750000\n",
            "2018-12-01 00:03:00         5.000000        17.000000\n",
            "2018-12-01 00:04:00         8.333333        20.000000\n",
            "2018-12-01 00:05:00        10.000000        21.750000\n",
            "2018-12-01 00:07:00         9.333333        18.666667\n",
            "2018-12-01 00:08:00         7.666667        20.000000\n",
            "2018-12-01 00:09:00        14.333333        36.000000\n",
            "2018-12-01 00:10:00         9.666667        21.333333\n"
          ],
          "name": "stdout"
        }
      ]
    },
    {
      "metadata": {
        "id": "ovi_G6ZfmQMT",
        "colab_type": "text"
      },
      "cell_type": "markdown",
      "source": [
        "### Shape Of Data\n",
        "\n",
        "\n",
        "---\n",
        "\n",
        "By seeing the distribution of data we can say that most of the data lie in a fix range of numbers  i.e. most of the data is not distributed far from the mean of the data."
      ]
    },
    {
      "metadata": {
        "id": "eNDFTycymN8M",
        "colab_type": "code",
        "colab": {
          "base_uri": "https://localhost:8080/",
          "height": 429
        },
        "outputId": "57a37683-1006-4f2d-c887-8e0e5519784a"
      },
      "cell_type": "code",
      "source": [
        "sns.distplot(data['Travel Distance'], kde=False, fit=stats.gamma)"
      ],
      "execution_count": 20,
      "outputs": [
        {
          "output_type": "stream",
          "text": [
            "/usr/local/lib/python3.6/dist-packages/matplotlib/axes/_axes.py:6521: MatplotlibDeprecationWarning: \n",
            "The 'normed' kwarg was deprecated in Matplotlib 2.1 and will be removed in 3.1. Use 'density' instead.\n",
            "  alternative=\"'density'\", removal=\"3.1\")\n"
          ],
          "name": "stderr"
        },
        {
          "output_type": "execute_result",
          "data": {
            "text/plain": [
              "<matplotlib.axes._subplots.AxesSubplot at 0x7ff00db2cac8>"
            ]
          },
          "metadata": {
            "tags": []
          },
          "execution_count": 20
        },
        {
          "output_type": "display_data",
          "data": {
            "image/png": "[encoded data removed]",
            "text/plain": [
              "<Figure size 576x396 with 1 Axes>"
            ]
          },
          "metadata": {
            "tags": []
          }
        }
      ]
    },
    {
      "metadata": {
        "id": "KS38EqdDbKAf",
        "colab_type": "text"
      },
      "cell_type": "markdown",
      "source": [
        "### Visualizing Top 1000 Samples Of Data To See How The Pattern Is Going\n",
        "\n",
        "---\n",
        "We can see their is a fairly small gap in between Dec 1, 3 o'clock & 6 o'clock.\n",
        "After that there is a sudden boom in Travel Distance.\n",
        "It can be concluded from this visualization that only few people travel travel a long distance. \n",
        "\n",
        "\n"
      ]
    },
    {
      "metadata": {
        "id": "rZdkrw6xjn-G",
        "colab_type": "code",
        "colab": {
          "base_uri": "https://localhost:8080/",
          "height": 372
        },
        "outputId": "932b58b5-4408-42d5-9ebe-145a100549ea"
      },
      "cell_type": "code",
      "source": [
        "dataOverview1000 = data[0:1000]\n",
        "plt.plot(dataOverview1000)\n",
        "plt.xticks(rotation=45)\n",
        "plt.show()"
      ],
      "execution_count": 21,
      "outputs": [
        {
          "output_type": "display_data",
          "data": {
            "image/png": "[encoded data removed]",
            "text/plain": [
              "<Figure size 576x396 with 1 Axes>"
            ]
          },
          "metadata": {
            "tags": []
          }
        }
      ]
    },
    {
      "metadata": {
        "id": "ZkTix625mvz8",
        "colab_type": "text"
      },
      "cell_type": "markdown",
      "source": [
        "### Now See The Overall Data\n",
        "\n",
        "---\n",
        "\n",
        "The data is mostly linear so we can say that it is not distributed far that means every corresponding answer lie in between a short range of number."
      ]
    },
    {
      "metadata": {
        "id": "a9c7Do6H26Qv",
        "colab_type": "code",
        "colab": {
          "base_uri": "https://localhost:8080/",
          "height": 381
        },
        "outputId": "0f8f2d3a-700a-412e-922d-896a9a1c5487"
      },
      "cell_type": "code",
      "source": [
        "dataOverviewAll = data\n",
        "plt.plot(dataOverviewAll)\n",
        "plt.xticks(rotation=45)\n",
        "plt.show()"
      ],
      "execution_count": 22,
      "outputs": [
        {
          "output_type": "display_data",
          "data": {
            "image/png": "[encoded data removed]",
            "text/plain": [
              "<Figure size 576x396 with 1 Axes>"
            ]
          },
          "metadata": {
            "tags": []
          }
        }
      ]
    },
    {
      "metadata": {
        "id": "PjJl-z-EnlZv",
        "colab_type": "code",
        "colab": {}
      },
      "cell_type": "code",
      "source": [
        ""
      ],
      "execution_count": 0,
      "outputs": []
    }
  ]
}