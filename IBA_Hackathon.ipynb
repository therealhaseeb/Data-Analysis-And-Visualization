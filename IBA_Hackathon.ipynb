{
  "nbformat": 4,
  "nbformat_minor": 0,
  "metadata": {
    "colab": {
      "name": "IBA_Hackathon.ipynb",
      "version": "0.3.2",
      "provenance": [],
      "collapsed_sections": [],
      "include_colab_link": true
    },
    "kernelspec": {
      "name": "python3",
      "display_name": "Python 3"
    },
    "accelerator": "GPU"
  },
  "cells": [
    {
      "cell_type": "markdown",
      "metadata": {
        "id": "view-in-github",
        "colab_type": "text"
      },
      "source": [
        "<a href=\"https://colab.research.google.com/github/haseeb1zahid/Data-Analysis-And-Visualization/blob/master/IBA_Hackathon.ipynb\" target=\"_parent\"><img src=\"https://colab.research.google.com/assets/colab-badge.svg\" alt=\"Open In Colab\"/></a>"
      ]
    },
    {
      "metadata": {
        "id": "hpKIwsYwNJja",
        "colab_type": "code",
        "colab": {
          "base_uri": "https://localhost:8080/",
          "height": 34
        },
        "outputId": "23cc1fdd-4d8e-4f03-c138-489a883a84d5"
      },
      "cell_type": "code",
      "source": [
        "import numpy as np\n",
        "import pandas as pd\n",
        "import matplotlib.pyplot as plt\n",
        "from sklearn.preprocessing import LabelEncoder\n",
        "from keras.utils import np_utils\n",
        "from sklearn import preprocessing\n",
        "from imblearn.over_sampling import SMOTE"
      ],
      "execution_count": 1,
      "outputs": [
        {
          "output_type": "stream",
          "text": [
            "Using TensorFlow backend.\n"
          ],
          "name": "stderr"
        }
      ]
    },
    {
      "metadata": {
        "id": "MM9JYrBcN4UM",
        "colab_type": "code",
        "outputId": "0615247f-f13a-4e63-8533-c5335930f5c1",
        "colab": {
          "base_uri": "https://localhost:8080/",
          "height": 224
        }
      },
      "cell_type": "code",
      "source": [
        "data = pd.read_csv('training.csv')\n",
        "data.head()"
      ],
      "execution_count": 2,
      "outputs": [
        {
          "output_type": "execute_result",
          "data": {
            "text/html": [
              "<div>\n",
              "<style scoped>\n",
              "    .dataframe tbody tr th:only-of-type {\n",
              "        vertical-align: middle;\n",
              "    }\n",
              "\n",
              "    .dataframe tbody tr th {\n",
              "        vertical-align: top;\n",
              "    }\n",
              "\n",
              "    .dataframe thead th {\n",
              "        text-align: right;\n",
              "    }\n",
              "</style>\n",
              "<table border=\"1\" class=\"dataframe\">\n",
              "  <thead>\n",
              "    <tr style=\"text-align: right;\">\n",
              "      <th></th>\n",
              "      <th>Row_ID</th>\n",
              "      <th>Financial_Year</th>\n",
              "      <th>Branch_Code</th>\n",
              "      <th>Sequence_1</th>\n",
              "      <th>Sequence_2</th>\n",
              "      <th>Donation_type</th>\n",
              "      <th>Donor_Age</th>\n",
              "      <th>Donation_Date</th>\n",
              "      <th>Gender</th>\n",
              "      <th>Blood_Group_Code</th>\n",
              "      <th>Donor_Weight</th>\n",
              "      <th>Donor_Temperature</th>\n",
              "      <th>Donor_Pulse</th>\n",
              "      <th>Donor_Hemoglobin</th>\n",
              "      <th>Donor_Blood_Pressure</th>\n",
              "      <th>Test_1</th>\n",
              "      <th>Test_2</th>\n",
              "      <th>Test_3</th>\n",
              "      <th>Test_4</th>\n",
              "      <th>Y</th>\n",
              "    </tr>\n",
              "  </thead>\n",
              "  <tbody>\n",
              "    <tr>\n",
              "      <th>0</th>\n",
              "      <td>202961</td>\n",
              "      <td>15</td>\n",
              "      <td>BRC-2</td>\n",
              "      <td>16281.0</td>\n",
              "      <td>15682</td>\n",
              "      <td>R</td>\n",
              "      <td>23.0</td>\n",
              "      <td>20-May-15</td>\n",
              "      <td>M</td>\n",
              "      <td>5.0</td>\n",
              "      <td>NaN</td>\n",
              "      <td>NaN</td>\n",
              "      <td>NaN</td>\n",
              "      <td>NaN</td>\n",
              "      <td>NaN</td>\n",
              "      <td>0.132</td>\n",
              "      <td>0.192</td>\n",
              "      <td>N</td>\n",
              "      <td>N</td>\n",
              "      <td>0</td>\n",
              "    </tr>\n",
              "    <tr>\n",
              "      <th>1</th>\n",
              "      <td>43390</td>\n",
              "      <td>15</td>\n",
              "      <td>BRC-1</td>\n",
              "      <td>1528.0</td>\n",
              "      <td>294</td>\n",
              "      <td>T</td>\n",
              "      <td>20.0</td>\n",
              "      <td>4-Jul-14</td>\n",
              "      <td>M</td>\n",
              "      <td>5.0</td>\n",
              "      <td>82.0</td>\n",
              "      <td>37.0</td>\n",
              "      <td>72.0</td>\n",
              "      <td>14.0</td>\n",
              "      <td>120/80</td>\n",
              "      <td>0.649</td>\n",
              "      <td>0.724</td>\n",
              "      <td>N</td>\n",
              "      <td>N</td>\n",
              "      <td>0</td>\n",
              "    </tr>\n",
              "    <tr>\n",
              "      <th>2</th>\n",
              "      <td>102493</td>\n",
              "      <td>16</td>\n",
              "      <td>BRC-1</td>\n",
              "      <td>27502.0</td>\n",
              "      <td>25159</td>\n",
              "      <td>T</td>\n",
              "      <td>38.0</td>\n",
              "      <td>22-Feb-16</td>\n",
              "      <td>M</td>\n",
              "      <td>7.0</td>\n",
              "      <td>80.0</td>\n",
              "      <td>37.0</td>\n",
              "      <td>72.0</td>\n",
              "      <td>13.0</td>\n",
              "      <td>120/80</td>\n",
              "      <td>0.082</td>\n",
              "      <td>0.202</td>\n",
              "      <td>N</td>\n",
              "      <td>N</td>\n",
              "      <td>0</td>\n",
              "    </tr>\n",
              "    <tr>\n",
              "      <th>3</th>\n",
              "      <td>122646</td>\n",
              "      <td>17</td>\n",
              "      <td>BRC-1</td>\n",
              "      <td>8252.0</td>\n",
              "      <td>7796</td>\n",
              "      <td>R</td>\n",
              "      <td>25.0</td>\n",
              "      <td>29-Aug-16</td>\n",
              "      <td>M</td>\n",
              "      <td>1.0</td>\n",
              "      <td>60.0</td>\n",
              "      <td>37.0</td>\n",
              "      <td>78.0</td>\n",
              "      <td>13.0</td>\n",
              "      <td>120/80</td>\n",
              "      <td>0.144</td>\n",
              "      <td>0.183</td>\n",
              "      <td>N</td>\n",
              "      <td>N</td>\n",
              "      <td>0</td>\n",
              "    </tr>\n",
              "    <tr>\n",
              "      <th>4</th>\n",
              "      <td>58944</td>\n",
              "      <td>15</td>\n",
              "      <td>BRC-1</td>\n",
              "      <td>17715.0</td>\n",
              "      <td>16483</td>\n",
              "      <td>R</td>\n",
              "      <td>22.0</td>\n",
              "      <td>28-Nov-14</td>\n",
              "      <td>M</td>\n",
              "      <td>7.0</td>\n",
              "      <td>75.0</td>\n",
              "      <td>37.0</td>\n",
              "      <td>72.0</td>\n",
              "      <td>14.0</td>\n",
              "      <td>120/80</td>\n",
              "      <td>0.424</td>\n",
              "      <td>0.303</td>\n",
              "      <td>N</td>\n",
              "      <td>N</td>\n",
              "      <td>0</td>\n",
              "    </tr>\n",
              "  </tbody>\n",
              "</table>\n",
              "</div>"
            ],
            "text/plain": [
              "   Row_ID  Financial_Year Branch_Code  Sequence_1  Sequence_2 Donation_type  \\\n",
              "0  202961              15       BRC-2     16281.0       15682             R   \n",
              "1   43390              15       BRC-1      1528.0         294             T   \n",
              "2  102493              16       BRC-1     27502.0       25159             T   \n",
              "3  122646              17       BRC-1      8252.0        7796             R   \n",
              "4   58944              15       BRC-1     17715.0       16483             R   \n",
              "\n",
              "   Donor_Age Donation_Date Gender  Blood_Group_Code  Donor_Weight  \\\n",
              "0       23.0     20-May-15      M               5.0           NaN   \n",
              "1       20.0      4-Jul-14      M               5.0          82.0   \n",
              "2       38.0     22-Feb-16      M               7.0          80.0   \n",
              "3       25.0     29-Aug-16      M               1.0          60.0   \n",
              "4       22.0     28-Nov-14      M               7.0          75.0   \n",
              "\n",
              "   Donor_Temperature  Donor_Pulse  Donor_Hemoglobin Donor_Blood_Pressure  \\\n",
              "0                NaN          NaN               NaN                  NaN   \n",
              "1               37.0         72.0              14.0               120/80   \n",
              "2               37.0         72.0              13.0               120/80   \n",
              "3               37.0         78.0              13.0               120/80   \n",
              "4               37.0         72.0              14.0               120/80   \n",
              "\n",
              "   Test_1  Test_2 Test_3 Test_4  Y  \n",
              "0   0.132   0.192      N      N  0  \n",
              "1   0.649   0.724      N      N  0  \n",
              "2   0.082   0.202      N      N  0  \n",
              "3   0.144   0.183      N      N  0  \n",
              "4   0.424   0.303      N      N  0  "
            ]
          },
          "metadata": {
            "tags": []
          },
          "execution_count": 2
        }
      ]
    },
    {
      "metadata": {
        "id": "DuiHfU3shhCz",
        "colab_type": "code",
        "colab": {
          "base_uri": "https://localhost:8080/",
          "height": 34
        },
        "outputId": "22dbc6cf-8694-470a-8520-aef0a330c240"
      },
      "cell_type": "code",
      "source": [
        "data['Y'].unique()\n",
        "data['Y'].count()"
      ],
      "execution_count": 3,
      "outputs": [
        {
          "output_type": "execute_result",
          "data": {
            "text/plain": [
              "164599"
            ]
          },
          "metadata": {
            "tags": []
          },
          "execution_count": 3
        }
      ]
    },
    {
      "metadata": {
        "id": "D5XLSrjdhtA3",
        "colab_type": "code",
        "colab": {}
      },
      "cell_type": "code",
      "source": [
        "data = data.dropna()"
      ],
      "execution_count": 0,
      "outputs": []
    },
    {
      "metadata": {
        "id": "N5mLjHqIhs-h",
        "colab_type": "code",
        "colab": {}
      },
      "cell_type": "code",
      "source": [
        "y_train = data['Y']"
      ],
      "execution_count": 0,
      "outputs": []
    },
    {
      "metadata": {
        "id": "Jhe2e-LKiwvx",
        "colab_type": "code",
        "colab": {
          "base_uri": "https://localhost:8080/",
          "height": 34
        },
        "outputId": "02adb24d-ccbe-410c-9b71-e45a5f02a04e"
      },
      "cell_type": "code",
      "source": [
        "y_train.unique()"
      ],
      "execution_count": 6,
      "outputs": [
        {
          "output_type": "execute_result",
          "data": {
            "text/plain": [
              "array([0, 1])"
            ]
          },
          "metadata": {
            "tags": []
          },
          "execution_count": 6
        }
      ]
    },
    {
      "metadata": {
        "id": "KXLyQiGIqe6Z",
        "colab_type": "code",
        "outputId": "127f4851-2037-4e77-82b9-6af75378c54b",
        "colab": {
          "base_uri": "https://localhost:8080/",
          "height": 34
        }
      },
      "cell_type": "code",
      "source": [
        "y_train.count()"
      ],
      "execution_count": 7,
      "outputs": [
        {
          "output_type": "execute_result",
          "data": {
            "text/plain": [
              "139571"
            ]
          },
          "metadata": {
            "tags": []
          },
          "execution_count": 7
        }
      ]
    },
    {
      "metadata": {
        "id": "S9MvIMUfi0Xd",
        "colab_type": "code",
        "colab": {
          "base_uri": "https://localhost:8080/",
          "height": 374
        },
        "outputId": "9d06a9bd-6e8f-428d-f2d5-f5c958269fd5"
      },
      "cell_type": "code",
      "source": [
        "data.count()"
      ],
      "execution_count": 8,
      "outputs": [
        {
          "output_type": "execute_result",
          "data": {
            "text/plain": [
              "Row_ID                  139571\n",
              "Financial_Year          139571\n",
              "Branch_Code             139571\n",
              "Sequence_1              139571\n",
              "Sequence_2              139571\n",
              "Donation_type           139571\n",
              "Donor_Age               139571\n",
              "Donation_Date           139571\n",
              "Gender                  139571\n",
              "Blood_Group_Code        139571\n",
              "Donor_Weight            139571\n",
              "Donor_Temperature       139571\n",
              "Donor_Pulse             139571\n",
              "Donor_Hemoglobin        139571\n",
              "Donor_Blood_Pressure    139571\n",
              "Test_1                  139571\n",
              "Test_2                  139571\n",
              "Test_3                  139571\n",
              "Test_4                  139571\n",
              "Y                       139571\n",
              "dtype: int64"
            ]
          },
          "metadata": {
            "tags": []
          },
          "execution_count": 8
        }
      ]
    },
    {
      "metadata": {
        "id": "RZuNxMR4i9gd",
        "colab_type": "code",
        "colab": {
          "base_uri": "https://localhost:8080/",
          "height": 34
        },
        "outputId": "d94ad104-2413-46db-f267-e34b8a955ba1"
      },
      "cell_type": "code",
      "source": [
        "data['Test_4'].unique()"
      ],
      "execution_count": 9,
      "outputs": [
        {
          "output_type": "execute_result",
          "data": {
            "text/plain": [
              "array(['N'], dtype=object)"
            ]
          },
          "metadata": {
            "tags": []
          },
          "execution_count": 9
        }
      ]
    },
    {
      "metadata": {
        "id": "adH9-BxqPa1x",
        "colab_type": "code",
        "colab": {}
      },
      "cell_type": "code",
      "source": [
        "del data['Row_ID']\n",
        "del data['Financial_Year']\n",
        "del data['Branch_Code']\n",
        "del data['Donation_Date']\n",
        "del data['Test_4']"
      ],
      "execution_count": 0,
      "outputs": []
    },
    {
      "metadata": {
        "id": "XdQDf4rMU7zJ",
        "colab_type": "code",
        "colab": {
          "base_uri": "https://localhost:8080/",
          "height": 34
        },
        "outputId": "9a111cff-a5c3-449f-cef3-99af203b16a8"
      },
      "cell_type": "code",
      "source": [
        "# encode class values as integers\n",
        "encoder = LabelEncoder()\n",
        "encoder.fit(data['Donation_type'])\n",
        "Donation_type = encoder.transform(data['Donation_type'])\n",
        "Donation_type = np_utils.to_categorical(Donation_type)\n",
        "print(Donation_type[0])"
      ],
      "execution_count": 11,
      "outputs": [
        {
          "output_type": "stream",
          "text": [
            "[0. 0. 0. 0. 0. 0. 1.]\n"
          ],
          "name": "stdout"
        }
      ]
    },
    {
      "metadata": {
        "id": "OF26wTCHU7vD",
        "colab_type": "code",
        "colab": {}
      },
      "cell_type": "code",
      "source": [
        "data['Donation_type'] = Donation_type"
      ],
      "execution_count": 0,
      "outputs": []
    },
    {
      "metadata": {
        "id": "Czk_aMUjWxm_",
        "colab_type": "code",
        "colab": {}
      },
      "cell_type": "code",
      "source": [
        "encoder = LabelEncoder()\n",
        "encoder.fit(data['Gender'])\n",
        "Gender = encoder.transform(data['Gender'])\n",
        "data['Gender'] = Gender"
      ],
      "execution_count": 0,
      "outputs": []
    },
    {
      "metadata": {
        "id": "tk7zzReiuAZh",
        "colab_type": "code",
        "colab": {}
      },
      "cell_type": "code",
      "source": [
        "encoder = LabelEncoder()\n",
        "encoder.fit(data['Donor_Blood_Pressure'])\n",
        "Donor_Blood_Pressure = encoder.transform(data['Donor_Blood_Pressure'])\n",
        "data['Donor_Blood_Pressure'] = Donor_Blood_Pressure"
      ],
      "execution_count": 0,
      "outputs": []
    },
    {
      "metadata": {
        "id": "BD_qcU6ZWxI3",
        "colab_type": "code",
        "colab": {}
      },
      "cell_type": "code",
      "source": [
        "encoder = LabelEncoder()\n",
        "encoder.fit(data['Test_3'])\n",
        "Test_3 = encoder.transform(data['Test_3'])\n",
        "data['Test_3'] = Test_3"
      ],
      "execution_count": 0,
      "outputs": []
    },
    {
      "metadata": {
        "id": "u1T3NYObj5da",
        "colab_type": "code",
        "colab": {
          "base_uri": "https://localhost:8080/",
          "height": 224
        },
        "outputId": "a945b2fe-fa40-43bc-cdc8-986a2a240d05"
      },
      "cell_type": "code",
      "source": [
        "data.head()"
      ],
      "execution_count": 17,
      "outputs": [
        {
          "output_type": "execute_result",
          "data": {
            "text/html": [
              "<div>\n",
              "<style scoped>\n",
              "    .dataframe tbody tr th:only-of-type {\n",
              "        vertical-align: middle;\n",
              "    }\n",
              "\n",
              "    .dataframe tbody tr th {\n",
              "        vertical-align: top;\n",
              "    }\n",
              "\n",
              "    .dataframe thead th {\n",
              "        text-align: right;\n",
              "    }\n",
              "</style>\n",
              "<table border=\"1\" class=\"dataframe\">\n",
              "  <thead>\n",
              "    <tr style=\"text-align: right;\">\n",
              "      <th></th>\n",
              "      <th>Sequence_1</th>\n",
              "      <th>Sequence_2</th>\n",
              "      <th>Donation_type</th>\n",
              "      <th>Donor_Age</th>\n",
              "      <th>Gender</th>\n",
              "      <th>Blood_Group_Code</th>\n",
              "      <th>Donor_Weight</th>\n",
              "      <th>Donor_Temperature</th>\n",
              "      <th>Donor_Pulse</th>\n",
              "      <th>Donor_Hemoglobin</th>\n",
              "      <th>Donor_Blood_Pressure</th>\n",
              "      <th>Test_1</th>\n",
              "      <th>Test_2</th>\n",
              "      <th>Test_3</th>\n",
              "      <th>Y</th>\n",
              "    </tr>\n",
              "  </thead>\n",
              "  <tbody>\n",
              "    <tr>\n",
              "      <th>1</th>\n",
              "      <td>1528.0</td>\n",
              "      <td>294</td>\n",
              "      <td>0.0</td>\n",
              "      <td>20.0</td>\n",
              "      <td>1</td>\n",
              "      <td>5.0</td>\n",
              "      <td>82.0</td>\n",
              "      <td>37.0</td>\n",
              "      <td>72.0</td>\n",
              "      <td>14.0</td>\n",
              "      <td>183</td>\n",
              "      <td>0.649</td>\n",
              "      <td>0.724</td>\n",
              "      <td>0</td>\n",
              "      <td>0</td>\n",
              "    </tr>\n",
              "    <tr>\n",
              "      <th>2</th>\n",
              "      <td>27502.0</td>\n",
              "      <td>25159</td>\n",
              "      <td>0.0</td>\n",
              "      <td>38.0</td>\n",
              "      <td>1</td>\n",
              "      <td>7.0</td>\n",
              "      <td>80.0</td>\n",
              "      <td>37.0</td>\n",
              "      <td>72.0</td>\n",
              "      <td>13.0</td>\n",
              "      <td>183</td>\n",
              "      <td>0.082</td>\n",
              "      <td>0.202</td>\n",
              "      <td>0</td>\n",
              "      <td>0</td>\n",
              "    </tr>\n",
              "    <tr>\n",
              "      <th>3</th>\n",
              "      <td>8252.0</td>\n",
              "      <td>7796</td>\n",
              "      <td>0.0</td>\n",
              "      <td>25.0</td>\n",
              "      <td>1</td>\n",
              "      <td>1.0</td>\n",
              "      <td>60.0</td>\n",
              "      <td>37.0</td>\n",
              "      <td>78.0</td>\n",
              "      <td>13.0</td>\n",
              "      <td>183</td>\n",
              "      <td>0.144</td>\n",
              "      <td>0.183</td>\n",
              "      <td>0</td>\n",
              "      <td>0</td>\n",
              "    </tr>\n",
              "    <tr>\n",
              "      <th>4</th>\n",
              "      <td>17715.0</td>\n",
              "      <td>16483</td>\n",
              "      <td>0.0</td>\n",
              "      <td>22.0</td>\n",
              "      <td>1</td>\n",
              "      <td>7.0</td>\n",
              "      <td>75.0</td>\n",
              "      <td>37.0</td>\n",
              "      <td>72.0</td>\n",
              "      <td>14.0</td>\n",
              "      <td>183</td>\n",
              "      <td>0.424</td>\n",
              "      <td>0.303</td>\n",
              "      <td>0</td>\n",
              "      <td>0</td>\n",
              "    </tr>\n",
              "    <tr>\n",
              "      <th>5</th>\n",
              "      <td>17875.0</td>\n",
              "      <td>17419</td>\n",
              "      <td>0.0</td>\n",
              "      <td>44.0</td>\n",
              "      <td>1</td>\n",
              "      <td>1.0</td>\n",
              "      <td>80.0</td>\n",
              "      <td>37.0</td>\n",
              "      <td>78.0</td>\n",
              "      <td>13.0</td>\n",
              "      <td>183</td>\n",
              "      <td>0.144</td>\n",
              "      <td>0.152</td>\n",
              "      <td>0</td>\n",
              "      <td>0</td>\n",
              "    </tr>\n",
              "  </tbody>\n",
              "</table>\n",
              "</div>"
            ],
            "text/plain": [
              "   Sequence_1  Sequence_2  Donation_type  Donor_Age  Gender  Blood_Group_Code  \\\n",
              "1      1528.0         294            0.0       20.0       1               5.0   \n",
              "2     27502.0       25159            0.0       38.0       1               7.0   \n",
              "3      8252.0        7796            0.0       25.0       1               1.0   \n",
              "4     17715.0       16483            0.0       22.0       1               7.0   \n",
              "5     17875.0       17419            0.0       44.0       1               1.0   \n",
              "\n",
              "   Donor_Weight  Donor_Temperature  Donor_Pulse  Donor_Hemoglobin  \\\n",
              "1          82.0               37.0         72.0              14.0   \n",
              "2          80.0               37.0         72.0              13.0   \n",
              "3          60.0               37.0         78.0              13.0   \n",
              "4          75.0               37.0         72.0              14.0   \n",
              "5          80.0               37.0         78.0              13.0   \n",
              "\n",
              "   Donor_Blood_Pressure  Test_1  Test_2  Test_3  Y  \n",
              "1                   183   0.649   0.724       0  0  \n",
              "2                   183   0.082   0.202       0  0  \n",
              "3                   183   0.144   0.183       0  0  \n",
              "4                   183   0.424   0.303       0  0  \n",
              "5                   183   0.144   0.152       0  0  "
            ]
          },
          "metadata": {
            "tags": []
          },
          "execution_count": 17
        }
      ]
    },
    {
      "metadata": {
        "id": "MoBGeZjzXG9K",
        "colab_type": "code",
        "colab": {
          "base_uri": "https://localhost:8080/",
          "height": 68
        },
        "outputId": "d35f9b57-4d1c-40f7-a7c8-52a0ae077b29"
      },
      "cell_type": "code",
      "source": [
        "data = data.values\n",
        "x = data[:,0:14]\n",
        "x[0]"
      ],
      "execution_count": 18,
      "outputs": [
        {
          "output_type": "execute_result",
          "data": {
            "text/plain": [
              "array([1.528e+03, 2.940e+02, 0.000e+00, 2.000e+01, 1.000e+00, 5.000e+00,\n",
              "       8.200e+01, 3.700e+01, 7.200e+01, 1.400e+01, 1.830e+02, 6.490e-01,\n",
              "       7.240e-01, 0.000e+00])"
            ]
          },
          "metadata": {
            "tags": []
          },
          "execution_count": 18
        }
      ]
    },
    {
      "metadata": {
        "id": "G7tY2wFZw2R7",
        "colab_type": "code",
        "outputId": "6a7c06d2-3565-446a-db9f-ff5bca481bd8",
        "colab": {
          "base_uri": "https://localhost:8080/",
          "height": 85
        }
      },
      "cell_type": "code",
      "source": [
        "min_max_scaler = preprocessing.MinMaxScaler()\n",
        "x_train = min_max_scaler.fit_transform(x)\n",
        "print(x_train[0])"
      ],
      "execution_count": 19,
      "outputs": [
        {
          "output_type": "stream",
          "text": [
            "[9.70849863e-03 6.61160755e-03 0.00000000e+00 2.63748567e-02\n",
            " 1.00000000e+00 2.94117647e-01 1.52830189e-01 3.67477721e-02\n",
            " 8.18106694e-02 1.94838945e-02 3.77319588e-01 7.26054737e-04\n",
            " 1.02100877e-04 0.00000000e+00]\n"
          ],
          "name": "stdout"
        }
      ]
    },
    {
      "metadata": {
        "id": "1UlylZTew2Ls",
        "colab_type": "code",
        "colab": {}
      },
      "cell_type": "code",
      "source": [
        "df = pd.DataFrame(x_train)\n",
        "df.to_csv('clean_x_train.csv')"
      ],
      "execution_count": 0,
      "outputs": []
    },
    {
      "metadata": {
        "id": "9IOoiKV1c-lf",
        "colab_type": "code",
        "colab": {
          "base_uri": "https://localhost:8080/",
          "height": 34
        },
        "outputId": "90673c53-ae2d-443f-9f4a-5d0a6c3288fd"
      },
      "cell_type": "code",
      "source": [
        "np.unique(y_train)"
      ],
      "execution_count": 21,
      "outputs": [
        {
          "output_type": "execute_result",
          "data": {
            "text/plain": [
              "array([0, 1])"
            ]
          },
          "metadata": {
            "tags": []
          },
          "execution_count": 21
        }
      ]
    },
    {
      "metadata": {
        "id": "ikLtjEvDkmS3",
        "colab_type": "code",
        "colab": {}
      },
      "cell_type": "code",
      "source": [
        "df = pd.DataFrame(y_train)\n",
        "df.to_csv('clean_y_train.csv')"
      ],
      "execution_count": 0,
      "outputs": []
    },
    {
      "metadata": {
        "id": "KeXgNoJWw2In",
        "colab_type": "code",
        "colab": {}
      },
      "cell_type": "code",
      "source": [
        "smt = SMOTE()\n",
        "X_train, y_train = smt.fit_sample(x_train, y_train)"
      ],
      "execution_count": 0,
      "outputs": []
    },
    {
      "metadata": {
        "id": "9FV39nzukupl",
        "colab_type": "code",
        "colab": {
          "base_uri": "https://localhost:8080/",
          "height": 34
        },
        "outputId": "4fb86982-39f1-45e7-9a31-6b227a041177"
      },
      "cell_type": "code",
      "source": [
        "X_train.shape"
      ],
      "execution_count": 31,
      "outputs": [
        {
          "output_type": "execute_result",
          "data": {
            "text/plain": [
              "(273732, 14)"
            ]
          },
          "metadata": {
            "tags": []
          },
          "execution_count": 31
        }
      ]
    },
    {
      "metadata": {
        "id": "cVYPKdZHb0nm",
        "colab_type": "code",
        "colab": {
          "base_uri": "https://localhost:8080/",
          "height": 34
        },
        "outputId": "b52d4d06-709a-4fb1-c294-e3e0aa458d83"
      },
      "cell_type": "code",
      "source": [
        "y_train.shape"
      ],
      "execution_count": 32,
      "outputs": [
        {
          "output_type": "execute_result",
          "data": {
            "text/plain": [
              "(273732,)"
            ]
          },
          "metadata": {
            "tags": []
          },
          "execution_count": 32
        }
      ]
    },
    {
      "metadata": {
        "id": "VFI_TKXGb0lN",
        "colab_type": "code",
        "colab": {
          "base_uri": "https://localhost:8080/",
          "height": 238
        },
        "outputId": "11f8ef85-27cf-4057-cbd0-e746db5eef85"
      },
      "cell_type": "code",
      "source": [
        "X_train"
      ],
      "execution_count": 33,
      "outputs": [
        {
          "output_type": "execute_result",
          "data": {
            "text/plain": [
              "array([[9.70849863e-03, 6.61160755e-03, 0.00000000e+00, ...,\n",
              "        7.26054737e-04, 1.02100877e-04, 0.00000000e+00],\n",
              "       [2.23049060e-01, 5.67695640e-01, 0.00000000e+00, ...,\n",
              "        9.17357295e-05, 2.83848912e-05, 0.00000000e+00],\n",
              "       [6.49368783e-02, 1.75895839e-01, 0.00000000e+00, ...,\n",
              "        1.61096891e-04, 2.57017423e-05, 0.00000000e+00],\n",
              "       ...,\n",
              "       [2.53760099e-01, 6.76531642e-01, 0.00000000e+00, ...,\n",
              "        1.70673666e-04, 2.09182565e-05, 0.00000000e+00],\n",
              "       [9.47318034e-01, 8.55267246e-01, 0.00000000e+00, ...,\n",
              "        2.89358168e-04, 3.30665826e-05, 0.00000000e+00],\n",
              "       [1.08686865e-01, 2.86190084e-01, 0.00000000e+00, ...,\n",
              "        2.72863143e-04, 3.86776472e-05, 0.00000000e+00]])"
            ]
          },
          "metadata": {
            "tags": []
          },
          "execution_count": 33
        }
      ]
    },
    {
      "metadata": {
        "id": "ZSwDnwlqbzxx",
        "colab_type": "code",
        "colab": {}
      },
      "cell_type": "code",
      "source": [
        "y_train = y_train.astype(float)"
      ],
      "execution_count": 0,
      "outputs": []
    },
    {
      "metadata": {
        "id": "07tyYForl3t5",
        "colab_type": "code",
        "colab": {
          "base_uri": "https://localhost:8080/",
          "height": 34
        },
        "outputId": "535b13c7-fe70-4a63-d307-b765f271cf71"
      },
      "cell_type": "code",
      "source": [
        "y_train"
      ],
      "execution_count": 36,
      "outputs": [
        {
          "output_type": "execute_result",
          "data": {
            "text/plain": [
              "array([0., 0., 0., ..., 1., 1., 1.])"
            ]
          },
          "metadata": {
            "tags": []
          },
          "execution_count": 36
        }
      ]
    },
    {
      "metadata": {
        "id": "E7A1qm-Gl3rf",
        "colab_type": "code",
        "colab": {
          "base_uri": "https://localhost:8080/",
          "height": 85
        },
        "outputId": "820595ad-29e8-4fa3-f748-b5f33a70021d"
      },
      "cell_type": "code",
      "source": [
        "from __future__ import absolute_import, division, print_function, unicode_literals\n",
        "\n",
        "!pip install -q tensorflow==2.0.0-alpha0"
      ],
      "execution_count": 50,
      "outputs": [
        {
          "output_type": "stream",
          "text": [
            "\u001b[K    100% |████████████████████████████████| 79.9MB 586kB/s \n",
            "\u001b[K    100% |████████████████████████████████| 419kB 19.0MB/s \n",
            "\u001b[K    100% |████████████████████████████████| 3.0MB 15.1MB/s \n",
            "\u001b[K    100% |████████████████████████████████| 61kB 30.7MB/s \n",
            "\u001b[?25h"
          ],
          "name": "stdout"
        }
      ]
    },
    {
      "metadata": {
        "id": "4MH2Zt1zl3pO",
        "colab_type": "code",
        "colab": {
          "base_uri": "https://localhost:8080/",
          "height": 88
        },
        "outputId": "5673ebeb-bc71-46c6-c777-4dee04db0e90"
      },
      "cell_type": "code",
      "source": [
        "model = tf.keras.models.Sequential([\n",
        "    tf.keras.layers.Dense(128 ,activation='relu', input_shape=(14,)),\n",
        "    tf.keras.layers.Dropout(0.2),\n",
        "    tf.keras.layers.Dense(10, activation='relu'),\n",
        "    tf.keras.layers.Dense(1, activation='sigmoid')\n",
        "])"
      ],
      "execution_count": 56,
      "outputs": [
        {
          "output_type": "stream",
          "text": [
            "WARNING:tensorflow:From /usr/local/lib/python3.6/dist-packages/tensorflow/python/keras/layers/core.py:143: calling dropout (from tensorflow.python.ops.nn_ops) with keep_prob is deprecated and will be removed in a future version.\n",
            "Instructions for updating:\n",
            "Please use `rate` instead of `keep_prob`. Rate should be set to `rate = 1 - keep_prob`.\n"
          ],
          "name": "stdout"
        }
      ]
    },
    {
      "metadata": {
        "id": "khUFu1-wl3my",
        "colab_type": "code",
        "colab": {}
      },
      "cell_type": "code",
      "source": [
        "model.compile(optimizer='rmsprop',\n",
        "                loss='binary_crossentropy',\n",
        "                metrics=['accuracy'])"
      ],
      "execution_count": 0,
      "outputs": []
    },
    {
      "metadata": {
        "id": "LomwSiBombd6",
        "colab_type": "code",
        "colab": {
          "base_uri": "https://localhost:8080/",
          "height": 3434
        },
        "outputId": "c8da8d7d-6bb6-457f-bd9f-58dcb658d0a7"
      },
      "cell_type": "code",
      "source": [
        "model.fit(X_train, y_train, shuffle=True, epochs=100, batch_size=200)"
      ],
      "execution_count": 62,
      "outputs": [
        {
          "output_type": "stream",
          "text": [
            "Epoch 1/100\n",
            "273732/273732 [==============================] - 4s 15us/sample - loss: 0.6682 - acc: 0.5812\n",
            "Epoch 2/100\n",
            "273732/273732 [==============================] - 4s 15us/sample - loss: 0.6676 - acc: 0.5826\n",
            "Epoch 3/100\n",
            "273732/273732 [==============================] - 4s 14us/sample - loss: 0.6669 - acc: 0.5840\n",
            "Epoch 4/100\n",
            "273732/273732 [==============================] - 4s 15us/sample - loss: 0.6664 - acc: 0.5849\n",
            "Epoch 5/100\n",
            "273732/273732 [==============================] - 4s 15us/sample - loss: 0.6660 - acc: 0.5850\n",
            "Epoch 6/100\n",
            "273732/273732 [==============================] - 4s 14us/sample - loss: 0.6653 - acc: 0.5856\n",
            "Epoch 7/100\n",
            "273732/273732 [==============================] - 4s 14us/sample - loss: 0.6648 - acc: 0.5875\n",
            "Epoch 8/100\n",
            "273732/273732 [==============================] - 4s 14us/sample - loss: 0.6647 - acc: 0.5880\n",
            "Epoch 9/100\n",
            "273732/273732 [==============================] - 4s 14us/sample - loss: 0.6638 - acc: 0.5891\n",
            "Epoch 10/100\n",
            "273732/273732 [==============================] - 4s 14us/sample - loss: 0.6632 - acc: 0.5904\n",
            "Epoch 11/100\n",
            "273732/273732 [==============================] - 4s 14us/sample - loss: 0.6631 - acc: 0.5907\n",
            "Epoch 12/100\n",
            "273732/273732 [==============================] - 4s 14us/sample - loss: 0.6620 - acc: 0.5935\n",
            "Epoch 13/100\n",
            "273732/273732 [==============================] - 4s 14us/sample - loss: 0.6617 - acc: 0.5934\n",
            "Epoch 14/100\n",
            "273732/273732 [==============================] - 4s 16us/sample - loss: 0.6611 - acc: 0.5955\n",
            "Epoch 15/100\n",
            "273732/273732 [==============================] - 5s 17us/sample - loss: 0.6610 - acc: 0.5957\n",
            "Epoch 16/100\n",
            "273732/273732 [==============================] - 4s 15us/sample - loss: 0.6605 - acc: 0.5970\n",
            "Epoch 17/100\n",
            "273732/273732 [==============================] - 4s 14us/sample - loss: 0.6601 - acc: 0.5967\n",
            "Epoch 18/100\n",
            "273732/273732 [==============================] - 4s 14us/sample - loss: 0.6597 - acc: 0.5973\n",
            "Epoch 19/100\n",
            "273732/273732 [==============================] - 4s 14us/sample - loss: 0.6594 - acc: 0.5984\n",
            "Epoch 20/100\n",
            "273732/273732 [==============================] - 4s 15us/sample - loss: 0.6594 - acc: 0.5983\n",
            "Epoch 21/100\n",
            "273732/273732 [==============================] - 4s 14us/sample - loss: 0.6588 - acc: 0.5988\n",
            "Epoch 22/100\n",
            "273732/273732 [==============================] - 4s 14us/sample - loss: 0.6583 - acc: 0.5993\n",
            "Epoch 23/100\n",
            "273732/273732 [==============================] - 4s 14us/sample - loss: 0.6579 - acc: 0.5996\n",
            "Epoch 24/100\n",
            "273732/273732 [==============================] - 4s 14us/sample - loss: 0.6578 - acc: 0.6005\n",
            "Epoch 25/100\n",
            "273732/273732 [==============================] - 4s 14us/sample - loss: 0.6572 - acc: 0.6013\n",
            "Epoch 26/100\n",
            "273732/273732 [==============================] - 4s 14us/sample - loss: 0.6573 - acc: 0.6008\n",
            "Epoch 27/100\n",
            "273732/273732 [==============================] - 4s 14us/sample - loss: 0.6574 - acc: 0.6003\n",
            "Epoch 28/100\n",
            "273732/273732 [==============================] - 4s 14us/sample - loss: 0.6572 - acc: 0.6002\n",
            "Epoch 29/100\n",
            "273732/273732 [==============================] - 4s 14us/sample - loss: 0.6568 - acc: 0.6001\n",
            "Epoch 30/100\n",
            "273732/273732 [==============================] - 4s 14us/sample - loss: 0.6564 - acc: 0.6008\n",
            "Epoch 31/100\n",
            "273732/273732 [==============================] - 4s 14us/sample - loss: 0.6561 - acc: 0.6028\n",
            "Epoch 32/100\n",
            "273732/273732 [==============================] - 4s 14us/sample - loss: 0.6559 - acc: 0.6016\n",
            "Epoch 33/100\n",
            "273732/273732 [==============================] - 4s 14us/sample - loss: 0.6556 - acc: 0.6021\n",
            "Epoch 34/100\n",
            "273732/273732 [==============================] - 4s 16us/sample - loss: 0.6554 - acc: 0.6023\n",
            "Epoch 35/100\n",
            "273732/273732 [==============================] - 5s 17us/sample - loss: 0.6552 - acc: 0.6020\n",
            "Epoch 36/100\n",
            "273732/273732 [==============================] - 4s 15us/sample - loss: 0.6553 - acc: 0.6016\n",
            "Epoch 37/100\n",
            "273732/273732 [==============================] - 4s 14us/sample - loss: 0.6549 - acc: 0.6029\n",
            "Epoch 38/100\n",
            "273732/273732 [==============================] - 4s 14us/sample - loss: 0.6546 - acc: 0.6047\n",
            "Epoch 39/100\n",
            "273732/273732 [==============================] - 4s 14us/sample - loss: 0.6544 - acc: 0.6039\n",
            "Epoch 40/100\n",
            "273732/273732 [==============================] - 4s 14us/sample - loss: 0.6542 - acc: 0.6036\n",
            "Epoch 41/100\n",
            "273732/273732 [==============================] - 4s 14us/sample - loss: 0.6542 - acc: 0.6041\n",
            "Epoch 42/100\n",
            "273732/273732 [==============================] - 4s 14us/sample - loss: 0.6544 - acc: 0.6038\n",
            "Epoch 43/100\n",
            "273732/273732 [==============================] - 4s 14us/sample - loss: 0.6537 - acc: 0.6053\n",
            "Epoch 44/100\n",
            "273732/273732 [==============================] - 4s 14us/sample - loss: 0.6541 - acc: 0.6051\n",
            "Epoch 45/100\n",
            "273732/273732 [==============================] - 4s 14us/sample - loss: 0.6540 - acc: 0.6036\n",
            "Epoch 46/100\n",
            "273732/273732 [==============================] - 4s 14us/sample - loss: 0.6537 - acc: 0.6035\n",
            "Epoch 47/100\n",
            "273732/273732 [==============================] - 4s 14us/sample - loss: 0.6535 - acc: 0.6042\n",
            "Epoch 48/100\n",
            "273732/273732 [==============================] - 4s 14us/sample - loss: 0.6534 - acc: 0.6038\n",
            "Epoch 49/100\n",
            "273732/273732 [==============================] - 4s 14us/sample - loss: 0.6528 - acc: 0.6060\n",
            "Epoch 50/100\n",
            "273732/273732 [==============================] - 4s 14us/sample - loss: 0.6524 - acc: 0.6067\n",
            "Epoch 51/100\n",
            "273732/273732 [==============================] - 4s 14us/sample - loss: 0.6530 - acc: 0.6061\n",
            "Epoch 52/100\n",
            "273732/273732 [==============================] - 4s 14us/sample - loss: 0.6527 - acc: 0.6066\n",
            "Epoch 53/100\n",
            "273732/273732 [==============================] - 4s 14us/sample - loss: 0.6524 - acc: 0.6063\n",
            "Epoch 54/100\n",
            "273732/273732 [==============================] - 4s 16us/sample - loss: 0.6523 - acc: 0.6065\n",
            "Epoch 55/100\n",
            "273732/273732 [==============================] - 5s 17us/sample - loss: 0.6527 - acc: 0.6057\n",
            "Epoch 56/100\n",
            "273732/273732 [==============================] - 4s 16us/sample - loss: 0.6521 - acc: 0.6066\n",
            "Epoch 57/100\n",
            "273732/273732 [==============================] - 4s 14us/sample - loss: 0.6521 - acc: 0.6072\n",
            "Epoch 58/100\n",
            "273732/273732 [==============================] - 4s 14us/sample - loss: 0.6515 - acc: 0.6070\n",
            "Epoch 59/100\n",
            "273732/273732 [==============================] - 4s 14us/sample - loss: 0.6516 - acc: 0.6069\n",
            "Epoch 60/100\n",
            "273732/273732 [==============================] - 4s 14us/sample - loss: 0.6512 - acc: 0.6078\n",
            "Epoch 61/100\n",
            "273732/273732 [==============================] - 4s 14us/sample - loss: 0.6509 - acc: 0.6086\n",
            "Epoch 62/100\n",
            "273732/273732 [==============================] - 4s 14us/sample - loss: 0.6514 - acc: 0.6080\n",
            "Epoch 63/100\n",
            "273732/273732 [==============================] - 4s 14us/sample - loss: 0.6513 - acc: 0.6079\n",
            "Epoch 64/100\n",
            "273732/273732 [==============================] - 4s 14us/sample - loss: 0.6510 - acc: 0.6083\n",
            "Epoch 65/100\n",
            "273732/273732 [==============================] - 4s 14us/sample - loss: 0.6512 - acc: 0.6077\n",
            "Epoch 66/100\n",
            "273732/273732 [==============================] - 4s 14us/sample - loss: 0.6505 - acc: 0.6083\n",
            "Epoch 67/100\n",
            "273732/273732 [==============================] - 4s 14us/sample - loss: 0.6502 - acc: 0.6090\n",
            "Epoch 68/100\n",
            "273732/273732 [==============================] - 4s 14us/sample - loss: 0.6508 - acc: 0.6084\n",
            "Epoch 69/100\n",
            "273732/273732 [==============================] - 4s 14us/sample - loss: 0.6504 - acc: 0.6087\n",
            "Epoch 70/100\n",
            "273732/273732 [==============================] - 4s 14us/sample - loss: 0.6503 - acc: 0.6085\n",
            "Epoch 71/100\n",
            "273732/273732 [==============================] - 4s 14us/sample - loss: 0.6502 - acc: 0.6086\n",
            "Epoch 72/100\n",
            "273732/273732 [==============================] - 4s 14us/sample - loss: 0.6499 - acc: 0.6092\n",
            "Epoch 73/100\n",
            "273732/273732 [==============================] - 4s 14us/sample - loss: 0.6502 - acc: 0.6090\n",
            "Epoch 74/100\n",
            "273732/273732 [==============================] - 5s 17us/sample - loss: 0.6495 - acc: 0.6097\n",
            "Epoch 75/100\n",
            "273732/273732 [==============================] - 5s 18us/sample - loss: 0.6496 - acc: 0.6092\n",
            "Epoch 76/100\n",
            "273732/273732 [==============================] - 4s 15us/sample - loss: 0.6491 - acc: 0.6105\n",
            "Epoch 77/100\n",
            "273732/273732 [==============================] - 4s 14us/sample - loss: 0.6491 - acc: 0.6099\n",
            "Epoch 78/100\n",
            "273732/273732 [==============================] - 4s 14us/sample - loss: 0.6494 - acc: 0.6103\n",
            "Epoch 79/100\n",
            "273732/273732 [==============================] - 4s 14us/sample - loss: 0.6494 - acc: 0.6106\n",
            "Epoch 80/100\n",
            "273732/273732 [==============================] - 4s 14us/sample - loss: 0.6489 - acc: 0.6111\n",
            "Epoch 81/100\n",
            "273732/273732 [==============================] - 4s 14us/sample - loss: 0.6494 - acc: 0.6095\n",
            "Epoch 82/100\n",
            "273732/273732 [==============================] - 4s 14us/sample - loss: 0.6487 - acc: 0.6101\n",
            "Epoch 83/100\n",
            "273732/273732 [==============================] - 4s 14us/sample - loss: 0.6487 - acc: 0.6118\n",
            "Epoch 84/100\n",
            "273732/273732 [==============================] - 4s 14us/sample - loss: 0.6488 - acc: 0.6107\n",
            "Epoch 85/100\n",
            "273732/273732 [==============================] - 4s 14us/sample - loss: 0.6486 - acc: 0.6113\n",
            "Epoch 86/100\n",
            "273732/273732 [==============================] - 4s 14us/sample - loss: 0.6488 - acc: 0.6105\n",
            "Epoch 87/100\n",
            "273732/273732 [==============================] - 4s 14us/sample - loss: 0.6484 - acc: 0.6109\n",
            "Epoch 88/100\n",
            "273732/273732 [==============================] - 4s 14us/sample - loss: 0.6485 - acc: 0.6114\n",
            "Epoch 89/100\n",
            "273732/273732 [==============================] - 4s 14us/sample - loss: 0.6483 - acc: 0.6114\n",
            "Epoch 90/100\n",
            "273732/273732 [==============================] - 4s 14us/sample - loss: 0.6483 - acc: 0.6126\n",
            "Epoch 91/100\n",
            "273732/273732 [==============================] - 4s 14us/sample - loss: 0.6484 - acc: 0.6114\n",
            "Epoch 92/100\n",
            "273732/273732 [==============================] - 4s 14us/sample - loss: 0.6478 - acc: 0.6125\n",
            "Epoch 93/100\n",
            "273732/273732 [==============================] - 4s 14us/sample - loss: 0.6476 - acc: 0.6121\n",
            "Epoch 94/100\n",
            "273732/273732 [==============================] - 4s 16us/sample - loss: 0.6479 - acc: 0.6117\n",
            "Epoch 95/100\n",
            "273732/273732 [==============================] - 5s 17us/sample - loss: 0.6475 - acc: 0.6120\n",
            "Epoch 96/100\n",
            "273732/273732 [==============================] - 4s 16us/sample - loss: 0.6478 - acc: 0.6122\n",
            "Epoch 97/100\n",
            "273732/273732 [==============================] - 4s 14us/sample - loss: 0.6476 - acc: 0.6129\n",
            "Epoch 98/100\n",
            "273732/273732 [==============================] - 4s 14us/sample - loss: 0.6474 - acc: 0.6129\n",
            "Epoch 99/100\n",
            "273732/273732 [==============================] - 4s 14us/sample - loss: 0.6472 - acc: 0.6131\n",
            "Epoch 100/100\n",
            "273732/273732 [==============================] - 4s 14us/sample - loss: 0.6479 - acc: 0.6120\n"
          ],
          "name": "stdout"
        },
        {
          "output_type": "execute_result",
          "data": {
            "text/plain": [
              "<tensorflow.python.keras.callbacks.History at 0x7fe26c365320>"
            ]
          },
          "metadata": {
            "tags": []
          },
          "execution_count": 62
        }
      ]
    },
    {
      "metadata": {
        "id": "AqsXyrq3s6gk",
        "colab_type": "code",
        "colab": {
          "base_uri": "https://localhost:8080/",
          "height": 224
        },
        "outputId": "a414be5e-e9f0-4798-aafa-18ed49720b47"
      },
      "cell_type": "code",
      "source": [
        "data = pd.read_csv('test_data.csv')\n",
        "data.head()"
      ],
      "execution_count": 63,
      "outputs": [
        {
          "output_type": "execute_result",
          "data": {
            "text/html": [
              "<div>\n",
              "<style scoped>\n",
              "    .dataframe tbody tr th:only-of-type {\n",
              "        vertical-align: middle;\n",
              "    }\n",
              "\n",
              "    .dataframe tbody tr th {\n",
              "        vertical-align: top;\n",
              "    }\n",
              "\n",
              "    .dataframe thead th {\n",
              "        text-align: right;\n",
              "    }\n",
              "</style>\n",
              "<table border=\"1\" class=\"dataframe\">\n",
              "  <thead>\n",
              "    <tr style=\"text-align: right;\">\n",
              "      <th></th>\n",
              "      <th>Row_ID</th>\n",
              "      <th>Financial_Year</th>\n",
              "      <th>Branch_Code</th>\n",
              "      <th>Sequence_1</th>\n",
              "      <th>Sequence_2</th>\n",
              "      <th>Donation_type</th>\n",
              "      <th>Donor_Age</th>\n",
              "      <th>Donation_Date</th>\n",
              "      <th>Gender</th>\n",
              "      <th>Blood_Group_Code</th>\n",
              "      <th>Donor_Weight</th>\n",
              "      <th>Donor_Temperature</th>\n",
              "      <th>Donor_Pulse</th>\n",
              "      <th>Donor_Hemoglobin</th>\n",
              "      <th>Donor_Blood_Pressure</th>\n",
              "      <th>Test_1</th>\n",
              "      <th>Test_2</th>\n",
              "      <th>Test_3</th>\n",
              "      <th>Test_4</th>\n",
              "    </tr>\n",
              "  </thead>\n",
              "  <tbody>\n",
              "    <tr>\n",
              "      <th>0</th>\n",
              "      <td>143624</td>\n",
              "      <td>17</td>\n",
              "      <td>BRC-1</td>\n",
              "      <td>29996.0</td>\n",
              "      <td>29540</td>\n",
              "      <td>R</td>\n",
              "      <td>25.0</td>\n",
              "      <td>16-Mar-17</td>\n",
              "      <td>M</td>\n",
              "      <td>NaN</td>\n",
              "      <td>65.0</td>\n",
              "      <td>37.0</td>\n",
              "      <td>72.0</td>\n",
              "      <td>13.0</td>\n",
              "      <td>120/80</td>\n",
              "      <td>0.122</td>\n",
              "      <td>0.194</td>\n",
              "      <td>N</td>\n",
              "      <td>N</td>\n",
              "    </tr>\n",
              "    <tr>\n",
              "      <th>1</th>\n",
              "      <td>148736</td>\n",
              "      <td>17</td>\n",
              "      <td>BRC-1</td>\n",
              "      <td>35296.0</td>\n",
              "      <td>34840</td>\n",
              "      <td>M</td>\n",
              "      <td>23.0</td>\n",
              "      <td>7-May-17</td>\n",
              "      <td>M</td>\n",
              "      <td>7.0</td>\n",
              "      <td>60.0</td>\n",
              "      <td>37.0</td>\n",
              "      <td>72.0</td>\n",
              "      <td>12.0</td>\n",
              "      <td>120/80</td>\n",
              "      <td>0.213</td>\n",
              "      <td>0.221</td>\n",
              "      <td>N</td>\n",
              "      <td>N</td>\n",
              "    </tr>\n",
              "    <tr>\n",
              "      <th>2</th>\n",
              "      <td>8388</td>\n",
              "      <td>14</td>\n",
              "      <td>BRC-1</td>\n",
              "      <td>86369.0</td>\n",
              "      <td>8590</td>\n",
              "      <td>R</td>\n",
              "      <td>26.0</td>\n",
              "      <td>4-Sep-13</td>\n",
              "      <td>M</td>\n",
              "      <td>1.0</td>\n",
              "      <td>65.0</td>\n",
              "      <td>37.0</td>\n",
              "      <td>72.0</td>\n",
              "      <td>13.0</td>\n",
              "      <td>120/80</td>\n",
              "      <td>0.151</td>\n",
              "      <td>0.394</td>\n",
              "      <td>N</td>\n",
              "      <td>N</td>\n",
              "    </tr>\n",
              "    <tr>\n",
              "      <th>3</th>\n",
              "      <td>48199</td>\n",
              "      <td>15</td>\n",
              "      <td>BRC-1</td>\n",
              "      <td>6521.0</td>\n",
              "      <td>5289</td>\n",
              "      <td>M</td>\n",
              "      <td>30.0</td>\n",
              "      <td>16-Aug-14</td>\n",
              "      <td>M</td>\n",
              "      <td>3.0</td>\n",
              "      <td>85.0</td>\n",
              "      <td>37.0</td>\n",
              "      <td>72.0</td>\n",
              "      <td>14.0</td>\n",
              "      <td>120/80</td>\n",
              "      <td>0.203</td>\n",
              "      <td>0.272</td>\n",
              "      <td>N</td>\n",
              "      <td>N</td>\n",
              "    </tr>\n",
              "    <tr>\n",
              "      <th>4</th>\n",
              "      <td>90631</td>\n",
              "      <td>16</td>\n",
              "      <td>BRC-1</td>\n",
              "      <td>15197.0</td>\n",
              "      <td>12853</td>\n",
              "      <td>P</td>\n",
              "      <td>NaN</td>\n",
              "      <td>25-Oct-15</td>\n",
              "      <td>M</td>\n",
              "      <td>5.0</td>\n",
              "      <td>NaN</td>\n",
              "      <td>NaN</td>\n",
              "      <td>NaN</td>\n",
              "      <td>NaN</td>\n",
              "      <td>NaN</td>\n",
              "      <td>0.382</td>\n",
              "      <td>0.182</td>\n",
              "      <td>N</td>\n",
              "      <td>N</td>\n",
              "    </tr>\n",
              "  </tbody>\n",
              "</table>\n",
              "</div>"
            ],
            "text/plain": [
              "   Row_ID  Financial_Year Branch_Code  Sequence_1  Sequence_2 Donation_type  \\\n",
              "0  143624              17       BRC-1     29996.0       29540             R   \n",
              "1  148736              17       BRC-1     35296.0       34840             M   \n",
              "2    8388              14       BRC-1     86369.0        8590             R   \n",
              "3   48199              15       BRC-1      6521.0        5289             M   \n",
              "4   90631              16       BRC-1     15197.0       12853             P   \n",
              "\n",
              "   Donor_Age Donation_Date Gender  Blood_Group_Code  Donor_Weight  \\\n",
              "0       25.0     16-Mar-17      M               NaN          65.0   \n",
              "1       23.0      7-May-17      M               7.0          60.0   \n",
              "2       26.0      4-Sep-13      M               1.0          65.0   \n",
              "3       30.0     16-Aug-14      M               3.0          85.0   \n",
              "4        NaN     25-Oct-15      M               5.0           NaN   \n",
              "\n",
              "   Donor_Temperature  Donor_Pulse  Donor_Hemoglobin Donor_Blood_Pressure  \\\n",
              "0               37.0         72.0              13.0               120/80   \n",
              "1               37.0         72.0              12.0               120/80   \n",
              "2               37.0         72.0              13.0               120/80   \n",
              "3               37.0         72.0              14.0               120/80   \n",
              "4                NaN          NaN               NaN                  NaN   \n",
              "\n",
              "   Test_1  Test_2 Test_3 Test_4  \n",
              "0   0.122   0.194      N      N  \n",
              "1   0.213   0.221      N      N  \n",
              "2   0.151   0.394      N      N  \n",
              "3   0.203   0.272      N      N  \n",
              "4   0.382   0.182      N      N  "
            ]
          },
          "metadata": {
            "tags": []
          },
          "execution_count": 63
        }
      ]
    },
    {
      "metadata": {
        "id": "N2nCVhPJvLz9",
        "colab_type": "code",
        "colab": {}
      },
      "cell_type": "code",
      "source": [
        "del data['Row_ID']\n",
        "del data['Financial_Year']\n",
        "del data['Branch_Code']\n",
        "del data['Donation_Date']\n",
        "del data['Test_4']\n",
        "\n",
        "data.fillna(df.mean(), inplace=True)"
      ],
      "execution_count": 0,
      "outputs": []
    },
    {
      "metadata": {
        "id": "4AxjNMAAvTBJ",
        "colab_type": "code",
        "colab": {}
      },
      "cell_type": "code",
      "source": [
        "data.dropna(inplace=True)"
      ],
      "execution_count": 0,
      "outputs": []
    },
    {
      "metadata": {
        "id": "dO5ao0ICvNZu",
        "colab_type": "code",
        "colab": {
          "base_uri": "https://localhost:8080/",
          "height": 224
        },
        "outputId": "46bfc18e-218b-4329-a665-3dc6e1db8d99"
      },
      "cell_type": "code",
      "source": [
        "data.head()"
      ],
      "execution_count": 73,
      "outputs": [
        {
          "output_type": "execute_result",
          "data": {
            "text/html": [
              "<div>\n",
              "<style scoped>\n",
              "    .dataframe tbody tr th:only-of-type {\n",
              "        vertical-align: middle;\n",
              "    }\n",
              "\n",
              "    .dataframe tbody tr th {\n",
              "        vertical-align: top;\n",
              "    }\n",
              "\n",
              "    .dataframe thead th {\n",
              "        text-align: right;\n",
              "    }\n",
              "</style>\n",
              "<table border=\"1\" class=\"dataframe\">\n",
              "  <thead>\n",
              "    <tr style=\"text-align: right;\">\n",
              "      <th></th>\n",
              "      <th>Sequence_1</th>\n",
              "      <th>Sequence_2</th>\n",
              "      <th>Donation_type</th>\n",
              "      <th>Donor_Age</th>\n",
              "      <th>Gender</th>\n",
              "      <th>Blood_Group_Code</th>\n",
              "      <th>Donor_Weight</th>\n",
              "      <th>Donor_Temperature</th>\n",
              "      <th>Donor_Pulse</th>\n",
              "      <th>Donor_Hemoglobin</th>\n",
              "      <th>Donor_Blood_Pressure</th>\n",
              "      <th>Test_1</th>\n",
              "      <th>Test_2</th>\n",
              "      <th>Test_3</th>\n",
              "    </tr>\n",
              "  </thead>\n",
              "  <tbody>\n",
              "    <tr>\n",
              "      <th>0</th>\n",
              "      <td>29996.0</td>\n",
              "      <td>29540</td>\n",
              "      <td>0.0</td>\n",
              "      <td>25.0</td>\n",
              "      <td>M</td>\n",
              "      <td>3.608659</td>\n",
              "      <td>65.0</td>\n",
              "      <td>37.0</td>\n",
              "      <td>72.0</td>\n",
              "      <td>13.0</td>\n",
              "      <td>120/80</td>\n",
              "      <td>0.122</td>\n",
              "      <td>0.194</td>\n",
              "      <td>N</td>\n",
              "    </tr>\n",
              "    <tr>\n",
              "      <th>1</th>\n",
              "      <td>35296.0</td>\n",
              "      <td>34840</td>\n",
              "      <td>0.0</td>\n",
              "      <td>23.0</td>\n",
              "      <td>M</td>\n",
              "      <td>7.000000</td>\n",
              "      <td>60.0</td>\n",
              "      <td>37.0</td>\n",
              "      <td>72.0</td>\n",
              "      <td>12.0</td>\n",
              "      <td>120/80</td>\n",
              "      <td>0.213</td>\n",
              "      <td>0.221</td>\n",
              "      <td>N</td>\n",
              "    </tr>\n",
              "    <tr>\n",
              "      <th>2</th>\n",
              "      <td>86369.0</td>\n",
              "      <td>8590</td>\n",
              "      <td>0.0</td>\n",
              "      <td>26.0</td>\n",
              "      <td>M</td>\n",
              "      <td>1.000000</td>\n",
              "      <td>65.0</td>\n",
              "      <td>37.0</td>\n",
              "      <td>72.0</td>\n",
              "      <td>13.0</td>\n",
              "      <td>120/80</td>\n",
              "      <td>0.151</td>\n",
              "      <td>0.394</td>\n",
              "      <td>N</td>\n",
              "    </tr>\n",
              "    <tr>\n",
              "      <th>3</th>\n",
              "      <td>6521.0</td>\n",
              "      <td>5289</td>\n",
              "      <td>0.0</td>\n",
              "      <td>30.0</td>\n",
              "      <td>M</td>\n",
              "      <td>3.000000</td>\n",
              "      <td>85.0</td>\n",
              "      <td>37.0</td>\n",
              "      <td>72.0</td>\n",
              "      <td>14.0</td>\n",
              "      <td>120/80</td>\n",
              "      <td>0.203</td>\n",
              "      <td>0.272</td>\n",
              "      <td>N</td>\n",
              "    </tr>\n",
              "    <tr>\n",
              "      <th>6</th>\n",
              "      <td>9290.0</td>\n",
              "      <td>8502</td>\n",
              "      <td>0.0</td>\n",
              "      <td>32.0</td>\n",
              "      <td>M</td>\n",
              "      <td>3.000000</td>\n",
              "      <td>70.0</td>\n",
              "      <td>37.0</td>\n",
              "      <td>72.0</td>\n",
              "      <td>12.0</td>\n",
              "      <td>120/70</td>\n",
              "      <td>0.051</td>\n",
              "      <td>0.134</td>\n",
              "      <td>N</td>\n",
              "    </tr>\n",
              "  </tbody>\n",
              "</table>\n",
              "</div>"
            ],
            "text/plain": [
              "   Sequence_1  Sequence_2  Donation_type  Donor_Age Gender  Blood_Group_Code  \\\n",
              "0     29996.0       29540            0.0       25.0      M          3.608659   \n",
              "1     35296.0       34840            0.0       23.0      M          7.000000   \n",
              "2     86369.0        8590            0.0       26.0      M          1.000000   \n",
              "3      6521.0        5289            0.0       30.0      M          3.000000   \n",
              "6      9290.0        8502            0.0       32.0      M          3.000000   \n",
              "\n",
              "   Donor_Weight  Donor_Temperature  Donor_Pulse  Donor_Hemoglobin  \\\n",
              "0          65.0               37.0         72.0              13.0   \n",
              "1          60.0               37.0         72.0              12.0   \n",
              "2          65.0               37.0         72.0              13.0   \n",
              "3          85.0               37.0         72.0              14.0   \n",
              "6          70.0               37.0         72.0              12.0   \n",
              "\n",
              "  Donor_Blood_Pressure  Test_1  Test_2 Test_3  \n",
              "0               120/80   0.122   0.194      N  \n",
              "1               120/80   0.213   0.221      N  \n",
              "2               120/80   0.151   0.394      N  \n",
              "3               120/80   0.203   0.272      N  \n",
              "6               120/70   0.051   0.134      N  "
            ]
          },
          "metadata": {
            "tags": []
          },
          "execution_count": 73
        }
      ]
    },
    {
      "metadata": {
        "id": "dK-zvIk6vgsy",
        "colab_type": "code",
        "colab": {}
      },
      "cell_type": "code",
      "source": [
        "# encode class values as integers\n",
        "encoder = LabelEncoder()\n",
        "\n",
        "encoder.fit(data['Donation_type'])\n",
        "Donation_type = encoder.transform(data['Donation_type'])\n",
        "Donation_type = np_utils.to_categorical(Donation_type)\n",
        "data['Donation_type'] = Donation_type"
      ],
      "execution_count": 0,
      "outputs": []
    },
    {
      "metadata": {
        "id": "JGsCjXt3viNl",
        "colab_type": "code",
        "colab": {}
      },
      "cell_type": "code",
      "source": [
        "encoder = LabelEncoder()\n",
        "encoder.fit(data['Gender'])\n",
        "Gender = encoder.transform(data['Gender'])\n",
        "data['Gender'] = Gender"
      ],
      "execution_count": 0,
      "outputs": []
    },
    {
      "metadata": {
        "id": "nSAlEe85vh1L",
        "colab_type": "code",
        "colab": {}
      },
      "cell_type": "code",
      "source": [
        "encoder = LabelEncoder()\n",
        "encoder.fit(data['Donor_Blood_Pressure'])\n",
        "Donor_Blood_Pressure = encoder.transform(data['Donor_Blood_Pressure'])\n",
        "data['Donor_Blood_Pressure'] = Donor_Blood_Pressure"
      ],
      "execution_count": 0,
      "outputs": []
    },
    {
      "metadata": {
        "id": "m1WAwU0ivhxf",
        "colab_type": "code",
        "colab": {}
      },
      "cell_type": "code",
      "source": [
        "encoder = LabelEncoder()\n",
        "encoder.fit(data['Test_3'])\n",
        "Test_3 = encoder.transform(data['Test_3'])\n",
        "data['Test_3'] = Test_3"
      ],
      "execution_count": 0,
      "outputs": []
    },
    {
      "metadata": {
        "id": "oULSEBzWta9a",
        "colab_type": "code",
        "colab": {
          "base_uri": "https://localhost:8080/",
          "height": 85
        },
        "outputId": "64a67442-f295-40be-d52f-9bdc6d39b623"
      },
      "cell_type": "code",
      "source": [
        "data.head()\n",
        "\n",
        "min_max_scaler = preprocessing.MinMaxScaler()\n",
        "x_test = min_max_scaler.fit_transform(x)\n",
        "print(x_test[0])\n",
        "\n",
        "df = pd.DataFrame(x_test)\n",
        "df.to_csv('clean_x_test.csv')"
      ],
      "execution_count": 79,
      "outputs": [
        {
          "output_type": "stream",
          "text": [
            "[9.70849863e-03 6.61160755e-03 0.00000000e+00 2.63748567e-02\n",
            " 1.00000000e+00 2.94117647e-01 1.52830189e-01 3.67477721e-02\n",
            " 8.18106694e-02 1.94838945e-02 3.77319588e-01 7.26054737e-04\n",
            " 1.02100877e-04 0.00000000e+00]\n"
          ],
          "name": "stdout"
        }
      ]
    },
    {
      "metadata": {
        "id": "cp0TjqxhmbbQ",
        "colab_type": "code",
        "colab": {}
      },
      "cell_type": "code",
      "source": [
        "predictions = model.predict(x_test)\n",
        "predictions = np.where(predictions > 0.5, 1, 0)"
      ],
      "execution_count": 0,
      "outputs": []
    },
    {
      "metadata": {
        "id": "lGIT-In5xofr",
        "colab_type": "code",
        "colab": {
          "base_uri": "https://localhost:8080/",
          "height": 1969
        },
        "outputId": "5cc92ad0-8f06-452e-ccdb-2fb1a7fa548b"
      },
      "cell_type": "code",
      "source": [
        "predictions"
      ],
      "execution_count": 91,
      "outputs": [
        {
          "output_type": "execute_result",
          "data": {
            "text/html": [
              "<div>\n",
              "<style scoped>\n",
              "    .dataframe tbody tr th:only-of-type {\n",
              "        vertical-align: middle;\n",
              "    }\n",
              "\n",
              "    .dataframe tbody tr th {\n",
              "        vertical-align: top;\n",
              "    }\n",
              "\n",
              "    .dataframe thead th {\n",
              "        text-align: right;\n",
              "    }\n",
              "</style>\n",
              "<table border=\"1\" class=\"dataframe\">\n",
              "  <thead>\n",
              "    <tr style=\"text-align: right;\">\n",
              "      <th></th>\n",
              "      <th>0</th>\n",
              "    </tr>\n",
              "  </thead>\n",
              "  <tbody>\n",
              "    <tr>\n",
              "      <th>0</th>\n",
              "      <td>0</td>\n",
              "    </tr>\n",
              "    <tr>\n",
              "      <th>1</th>\n",
              "      <td>1</td>\n",
              "    </tr>\n",
              "    <tr>\n",
              "      <th>2</th>\n",
              "      <td>1</td>\n",
              "    </tr>\n",
              "    <tr>\n",
              "      <th>3</th>\n",
              "      <td>0</td>\n",
              "    </tr>\n",
              "    <tr>\n",
              "      <th>4</th>\n",
              "      <td>0</td>\n",
              "    </tr>\n",
              "    <tr>\n",
              "      <th>5</th>\n",
              "      <td>1</td>\n",
              "    </tr>\n",
              "    <tr>\n",
              "      <th>6</th>\n",
              "      <td>0</td>\n",
              "    </tr>\n",
              "    <tr>\n",
              "      <th>7</th>\n",
              "      <td>0</td>\n",
              "    </tr>\n",
              "    <tr>\n",
              "      <th>8</th>\n",
              "      <td>1</td>\n",
              "    </tr>\n",
              "    <tr>\n",
              "      <th>9</th>\n",
              "      <td>1</td>\n",
              "    </tr>\n",
              "    <tr>\n",
              "      <th>10</th>\n",
              "      <td>1</td>\n",
              "    </tr>\n",
              "    <tr>\n",
              "      <th>11</th>\n",
              "      <td>0</td>\n",
              "    </tr>\n",
              "    <tr>\n",
              "      <th>12</th>\n",
              "      <td>0</td>\n",
              "    </tr>\n",
              "    <tr>\n",
              "      <th>13</th>\n",
              "      <td>0</td>\n",
              "    </tr>\n",
              "    <tr>\n",
              "      <th>14</th>\n",
              "      <td>1</td>\n",
              "    </tr>\n",
              "    <tr>\n",
              "      <th>15</th>\n",
              "      <td>1</td>\n",
              "    </tr>\n",
              "    <tr>\n",
              "      <th>16</th>\n",
              "      <td>1</td>\n",
              "    </tr>\n",
              "    <tr>\n",
              "      <th>17</th>\n",
              "      <td>0</td>\n",
              "    </tr>\n",
              "    <tr>\n",
              "      <th>18</th>\n",
              "      <td>0</td>\n",
              "    </tr>\n",
              "    <tr>\n",
              "      <th>19</th>\n",
              "      <td>0</td>\n",
              "    </tr>\n",
              "    <tr>\n",
              "      <th>20</th>\n",
              "      <td>0</td>\n",
              "    </tr>\n",
              "    <tr>\n",
              "      <th>21</th>\n",
              "      <td>1</td>\n",
              "    </tr>\n",
              "    <tr>\n",
              "      <th>22</th>\n",
              "      <td>1</td>\n",
              "    </tr>\n",
              "    <tr>\n",
              "      <th>23</th>\n",
              "      <td>0</td>\n",
              "    </tr>\n",
              "    <tr>\n",
              "      <th>24</th>\n",
              "      <td>0</td>\n",
              "    </tr>\n",
              "    <tr>\n",
              "      <th>25</th>\n",
              "      <td>1</td>\n",
              "    </tr>\n",
              "    <tr>\n",
              "      <th>26</th>\n",
              "      <td>0</td>\n",
              "    </tr>\n",
              "    <tr>\n",
              "      <th>27</th>\n",
              "      <td>0</td>\n",
              "    </tr>\n",
              "    <tr>\n",
              "      <th>28</th>\n",
              "      <td>1</td>\n",
              "    </tr>\n",
              "    <tr>\n",
              "      <th>29</th>\n",
              "      <td>1</td>\n",
              "    </tr>\n",
              "    <tr>\n",
              "      <th>...</th>\n",
              "      <td>...</td>\n",
              "    </tr>\n",
              "    <tr>\n",
              "      <th>139541</th>\n",
              "      <td>0</td>\n",
              "    </tr>\n",
              "    <tr>\n",
              "      <th>139542</th>\n",
              "      <td>0</td>\n",
              "    </tr>\n",
              "    <tr>\n",
              "      <th>139543</th>\n",
              "      <td>1</td>\n",
              "    </tr>\n",
              "    <tr>\n",
              "      <th>139544</th>\n",
              "      <td>0</td>\n",
              "    </tr>\n",
              "    <tr>\n",
              "      <th>139545</th>\n",
              "      <td>1</td>\n",
              "    </tr>\n",
              "    <tr>\n",
              "      <th>139546</th>\n",
              "      <td>1</td>\n",
              "    </tr>\n",
              "    <tr>\n",
              "      <th>139547</th>\n",
              "      <td>1</td>\n",
              "    </tr>\n",
              "    <tr>\n",
              "      <th>139548</th>\n",
              "      <td>0</td>\n",
              "    </tr>\n",
              "    <tr>\n",
              "      <th>139549</th>\n",
              "      <td>0</td>\n",
              "    </tr>\n",
              "    <tr>\n",
              "      <th>139550</th>\n",
              "      <td>1</td>\n",
              "    </tr>\n",
              "    <tr>\n",
              "      <th>139551</th>\n",
              "      <td>1</td>\n",
              "    </tr>\n",
              "    <tr>\n",
              "      <th>139552</th>\n",
              "      <td>0</td>\n",
              "    </tr>\n",
              "    <tr>\n",
              "      <th>139553</th>\n",
              "      <td>1</td>\n",
              "    </tr>\n",
              "    <tr>\n",
              "      <th>139554</th>\n",
              "      <td>1</td>\n",
              "    </tr>\n",
              "    <tr>\n",
              "      <th>139555</th>\n",
              "      <td>0</td>\n",
              "    </tr>\n",
              "    <tr>\n",
              "      <th>139556</th>\n",
              "      <td>1</td>\n",
              "    </tr>\n",
              "    <tr>\n",
              "      <th>139557</th>\n",
              "      <td>1</td>\n",
              "    </tr>\n",
              "    <tr>\n",
              "      <th>139558</th>\n",
              "      <td>1</td>\n",
              "    </tr>\n",
              "    <tr>\n",
              "      <th>139559</th>\n",
              "      <td>0</td>\n",
              "    </tr>\n",
              "    <tr>\n",
              "      <th>139560</th>\n",
              "      <td>1</td>\n",
              "    </tr>\n",
              "    <tr>\n",
              "      <th>139561</th>\n",
              "      <td>0</td>\n",
              "    </tr>\n",
              "    <tr>\n",
              "      <th>139562</th>\n",
              "      <td>1</td>\n",
              "    </tr>\n",
              "    <tr>\n",
              "      <th>139563</th>\n",
              "      <td>1</td>\n",
              "    </tr>\n",
              "    <tr>\n",
              "      <th>139564</th>\n",
              "      <td>0</td>\n",
              "    </tr>\n",
              "    <tr>\n",
              "      <th>139565</th>\n",
              "      <td>0</td>\n",
              "    </tr>\n",
              "    <tr>\n",
              "      <th>139566</th>\n",
              "      <td>1</td>\n",
              "    </tr>\n",
              "    <tr>\n",
              "      <th>139567</th>\n",
              "      <td>1</td>\n",
              "    </tr>\n",
              "    <tr>\n",
              "      <th>139568</th>\n",
              "      <td>0</td>\n",
              "    </tr>\n",
              "    <tr>\n",
              "      <th>139569</th>\n",
              "      <td>1</td>\n",
              "    </tr>\n",
              "    <tr>\n",
              "      <th>139570</th>\n",
              "      <td>1</td>\n",
              "    </tr>\n",
              "  </tbody>\n",
              "</table>\n",
              "<p>139571 rows × 1 columns</p>\n",
              "</div>"
            ],
            "text/plain": [
              "        0\n",
              "0       0\n",
              "1       1\n",
              "2       1\n",
              "3       0\n",
              "4       0\n",
              "5       1\n",
              "6       0\n",
              "7       0\n",
              "8       1\n",
              "9       1\n",
              "10      1\n",
              "11      0\n",
              "12      0\n",
              "13      0\n",
              "14      1\n",
              "15      1\n",
              "16      1\n",
              "17      0\n",
              "18      0\n",
              "19      0\n",
              "20      0\n",
              "21      1\n",
              "22      1\n",
              "23      0\n",
              "24      0\n",
              "25      1\n",
              "26      0\n",
              "27      0\n",
              "28      1\n",
              "29      1\n",
              "...    ..\n",
              "139541  0\n",
              "139542  0\n",
              "139543  1\n",
              "139544  0\n",
              "139545  1\n",
              "139546  1\n",
              "139547  1\n",
              "139548  0\n",
              "139549  0\n",
              "139550  1\n",
              "139551  1\n",
              "139552  0\n",
              "139553  1\n",
              "139554  1\n",
              "139555  0\n",
              "139556  1\n",
              "139557  1\n",
              "139558  1\n",
              "139559  0\n",
              "139560  1\n",
              "139561  0\n",
              "139562  1\n",
              "139563  1\n",
              "139564  0\n",
              "139565  0\n",
              "139566  1\n",
              "139567  1\n",
              "139568  0\n",
              "139569  1\n",
              "139570  1\n",
              "\n",
              "[139571 rows x 1 columns]"
            ]
          },
          "metadata": {
            "tags": []
          },
          "execution_count": 91
        }
      ]
    },
    {
      "metadata": {
        "id": "V__CywSCxTFJ",
        "colab_type": "code",
        "colab": {}
      },
      "cell_type": "code",
      "source": [
        "predictions = pd.DataFrame(predictions)"
      ],
      "execution_count": 0,
      "outputs": []
    },
    {
      "metadata": {
        "id": "mcQEe_Lww-lt",
        "colab_type": "code",
        "colab": {
          "base_uri": "https://localhost:8080/",
          "height": 51
        },
        "outputId": "21d8d991-3f28-4370-a9c3-35fba4d43d0b"
      },
      "cell_type": "code",
      "source": [
        "predictions.count()"
      ],
      "execution_count": 90,
      "outputs": [
        {
          "output_type": "execute_result",
          "data": {
            "text/plain": [
              "0    139571\n",
              "dtype: int64"
            ]
          },
          "metadata": {
            "tags": []
          },
          "execution_count": 90
        }
      ]
    }
  ]
}